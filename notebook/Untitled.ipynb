{
 "cells": [
  {
   "cell_type": "code",
   "execution_count": 15,
   "metadata": {},
   "outputs": [],
   "source": [
    "from IPython.core.display import display, update_display, HTML\n",
    "import pandas as pd\n",
    "import numpy as np\n",
    "import json"
   ]
  },
  {
   "cell_type": "code",
   "execution_count": 8,
   "metadata": {},
   "outputs": [
    {
     "data": {
      "application/javascript": [
       "require.config({                                             baseUrl: './',                                             paths: { 'd3': 'http://d3js.org/d3.v5.min'\n",
       "} });"
      ],
      "text/plain": [
       "<IPython.core.display.Javascript object>"
      ]
     },
     "metadata": {},
     "output_type": "display_data"
    },
    {
     "data": {
      "text/html": [
       "<script>function cleanUp() { argList =[]; element = null; cell_idx = -1}</script>"
      ],
      "text/plain": [
       "<IPython.core.display.HTML object>"
      ]
     },
     "metadata": {},
     "output_type": "display_data"
    }
   ],
   "source": [
    "%load_ext vis_interface"
   ]
  },
  {
   "cell_type": "code",
   "execution_count": 19,
   "metadata": {},
   "outputs": [],
   "source": [
    "json_data = pd.read_csv('../data/colorado.csv').to_json(orient='records')"
   ]
  },
  {
   "cell_type": "code",
   "execution_count": 46,
   "metadata": {},
   "outputs": [
    {
     "data": {
      "application/javascript": [
       "\n",
       "        // Grab current context\n",
       "        elementTop = element.get(0);"
      ],
      "text/plain": [
       "<IPython.core.display.Javascript object>"
      ]
     },
     "metadata": {},
     "output_type": "display_data"
    },
    {
     "data": {
      "text/html": [
       "<style>\n",
       "body {\n",
       "  font: 11px sans-serif;\n",
       "}\n",
       "\n",
       ".axis path,\n",
       ".axis line {\n",
       "  fill: none;\n",
       "  stroke: #fff;\n",
       "  shape-rendering: crispEdges;\n",
       "}\n",
       ".axis text {\n",
       "  fill: #fff;\n",
       "  font-size: 12px;\n",
       "}\n",
       ".dot {\n",
       "  stroke: #000;\n",
       "}\n",
       "\n",
       "div.tooltip {\n",
       "    position: absolute;\n",
       "    text-align: center;\n",
       "    width: 260px;\n",
       "    height: 56px;\n",
       "    padding: 2px;\n",
       "    font: 12px sans-serif;\n",
       "    background: #333;\n",
       "    border: 0px;\n",
       "    border-radius: 8px;\n",
       "    pointer-events: none;\n",
       "}\n",
       "\n",
       ".label {\n",
       "  fill: #fff;\n",
       "  font-size: 20px;\n",
       "}\n",
       ".sublabel {\n",
       "  fill: #fff;\n",
       "  font-size: 5px;\n",
       "}\n",
       ".input.radio {\n",
       "    margin-right: 0;\n",
       "}\n",
       ".text {\n",
       "  font: 24px \"Helvetica Neue\", Helvetica, Arial, sans-serif;\n",
       "  text-anchor: middle;\n",
       "  pointer-events: none;\n",
       "}\n",
       "\n",
       "</style>\n"
      ],
      "text/plain": [
       "<IPython.core.display.HTML object>"
      ]
     },
     "metadata": {},
     "output_type": "display_data"
    },
    {
     "data": {
      "text/html": [
       "\n",
       "                  <div id=\"colorado\"></div>\n",
       "                  <script>\n",
       "                  elementTop.appendChild(document.getElementById('colorado'));\n",
       "                  element = document.getElementById('colorado');\n",
       "(function(element) {\n",
       "    require(['d3'], function(d3) {\n",
       "\n",
       "        data = JSON.parse(argList[1]);\n",
       "\n",
       "        var width = 1200;\n",
       "        var height = 600;\n",
       "        var margin = 0;\n",
       "        var scale = 1000;\n",
       "\n",
       "        data.forEach(function(d) {\n",
       "            d.Date = d3.timeParse(\"%m/%d/%y\")(d.Date);\n",
       "        });\n",
       "        \n",
       "        //\n",
       "        // Scales\n",
       "        //\n",
       "        var x = d3.scaleTime().range([margin, width-margin])\n",
       "            .domain([d3.min(data, function(d) { return d.Date;}), new Date()]);\n",
       "//            .domain(d3.extent(data, function(d) { return d.Date; }));\n",
       "\n",
       "\n",
       "        var y = d3.scaleLinear().range([margin, height-margin])\n",
       "            .domain(d3.extent(data, function(d) { return d.Cases; }));\n",
       "\n",
       "        \n",
       "        // \n",
       "        // SVG\n",
       "        //\n",
       "        var svg = d3.select(element).append(\"svg\")                              \n",
       "            .attr(\"width\", width)                                               \n",
       "            .attr(\"height\", height);\n",
       "\n",
       "        var cases = d3.area()\n",
       "            .x(function(d) { return x(d.Date) })\n",
       "            .y0(height)\n",
       "            .y1(function(d) { return height-y(d.Cases) })\n",
       "\n",
       "        var hosp = d3.area()\n",
       "            .x(function(d) { return x(d.Date) })\n",
       "            .y0(height)\n",
       "            .y1(function(d) { return height-y(d.Hospitalizations) })\n",
       "\n",
       "        var deaths = d3.area()\n",
       "            .x(function(d) { return x(d.Date) })\n",
       "            .y0(height)\n",
       "            .y1(function(d) { return height-y(d.Deaths) })\n",
       "\n",
       "        var p = svg.append(\"path\")\n",
       "            .datum(data)\n",
       "            .attr(\"fill\", \"steelblue\")\n",
       "            .attr(\"d\", cases);\n",
       "        \n",
       "        var p = svg.append(\"path\")\n",
       "            .datum(data)\n",
       "            .attr(\"fill\", \"darkred\")\n",
       "            .attr(\"d\", hosp);\n",
       "\n",
       "        var p = svg.append(\"path\")\n",
       "            .datum(data)\n",
       "            .attr(\"fill\", \"black\")\n",
       "            .attr(\"d\", deaths);\n",
       "\n",
       "        console.log(\"foobar\");\n",
       "        cleanUp();\n",
       "\n",
       "    })\n",
       "})(element);\n",
       "\n",
       "</script>"
      ],
      "text/plain": [
       "<IPython.core.display.HTML object>"
      ]
     },
     "metadata": {},
     "output_type": "display_data"
    }
   ],
   "source": [
    "%loadVisualization colorado colorado.js colorado.html %json_data"
   ]
  },
  {
   "cell_type": "code",
   "execution_count": 18,
   "metadata": {},
   "outputs": [
    {
     "data": {
      "text/plain": [
       "'\"[{\\\\\"Date\\\\\":\\\\\"3\\\\\\\\/4\\\\\\\\/20\\\\\",\\\\\"Cases\\\\\":0.0,\\\\\"Hospitalizations\\\\\":0.0,\\\\\"Deaths\\\\\":0.0,\\\\\"Case_Fit\\\\\":7.212881156},{\\\\\"Date\\\\\":\\\\\"3\\\\\\\\/5\\\\\\\\/20\\\\\",\\\\\"Cases\\\\\":1.0,\\\\\"Hospitalizations\\\\\":null,\\\\\"Deaths\\\\\":0.0,\\\\\"Case_Fit\\\\\":9.267143461},{\\\\\"Date\\\\\":\\\\\"3\\\\\\\\/6\\\\\\\\/20\\\\\",\\\\\"Cases\\\\\":8.0,\\\\\"Hospitalizations\\\\\":null,\\\\\"Deaths\\\\\":0.0,\\\\\"Case_Fit\\\\\":11.90646928},{\\\\\"Date\\\\\":\\\\\"3\\\\\\\\/7\\\\\\\\/20\\\\\",\\\\\"Cases\\\\\":8.0,\\\\\"Hospitalizations\\\\\":null,\\\\\"Deaths\\\\\":0.0,\\\\\"Case_Fit\\\\\":15.29748745},{\\\\\"Date\\\\\":\\\\\"3\\\\\\\\/8\\\\\\\\/20\\\\\",\\\\\"Cases\\\\\":12.0,\\\\\"Hospitalizations\\\\\":null,\\\\\"Deaths\\\\\":0.0,\\\\\"Case_Fit\\\\\":19.65428346},{\\\\\"Date\\\\\":\\\\\"3\\\\\\\\/9\\\\\\\\/20\\\\\",\\\\\"Cases\\\\\":17.0,\\\\\"Hospitalizations\\\\\":null,\\\\\"Deaths\\\\\":0.0,\\\\\"Case_Fit\\\\\":25.25191536},{\\\\\"Date\\\\\":\\\\\"3\\\\\\\\/10\\\\\\\\/20\\\\\",\\\\\"Cases\\\\\":34.0,\\\\\"Hospitalizations\\\\\":null,\\\\\"Deaths\\\\\":0.0,\\\\\"Case_Fit\\\\\":32.44377902},{\\\\\"Date\\\\\":\\\\\"3\\\\\\\\/11\\\\\\\\/20\\\\\",\\\\\"Cases\\\\\":39.0,\\\\\"Hospitalizations\\\\\":null,\\\\\"Deaths\\\\\":0.0,\\\\\"Case_Fit\\\\\":41.6839191},{\\\\\"Date\\\\\":\\\\\"3\\\\\\\\/12\\\\\\\\/20\\\\\",\\\\\"Cases\\\\\":77.0,\\\\\"Hospitalizations\\\\\":null,\\\\\"Deaths\\\\\":0.0,\\\\\"Case_Fit\\\\\":53.55569431},{\\\\\"Date\\\\\":\\\\\"3\\\\\\\\/13\\\\\\\\/20\\\\\",\\\\\"Cases\\\\\":101.0,\\\\\"Hospitalizations\\\\\":null,\\\\\"Deaths\\\\\":0.0,\\\\\"Case_Fit\\\\\":68.80860666},{\\\\\"Date\\\\\":\\\\\"3\\\\\\\\/14\\\\\\\\/20\\\\\",\\\\\"Cases\\\\\":131.0,\\\\\"Hospitalizations\\\\\":null,\\\\\"Deaths\\\\\":1.0,\\\\\"Case_Fit\\\\\":88.40561982},{\\\\\"Date\\\\\":\\\\\"3\\\\\\\\/15\\\\\\\\/20\\\\\",\\\\\"Cases\\\\\":160.0,\\\\\"Hospitalizations\\\\\":null,\\\\\"Deaths\\\\\":1.0,\\\\\"Case_Fit\\\\\":113.583954},{\\\\\"Date\\\\\":\\\\\"3\\\\\\\\/16\\\\\\\\/20\\\\\",\\\\\"Cases\\\\\":160.0,\\\\\"Hospitalizations\\\\\":null,\\\\\"Deaths\\\\\":1.0,\\\\\"Case_Fit\\\\\":145.9331956},{\\\\\"Date\\\\\":\\\\\"3\\\\\\\\/17\\\\\\\\/20\\\\\",\\\\\"Cases\\\\\":184.0,\\\\\"Hospitalizations\\\\\":null,\\\\\"Deaths\\\\\":1.0,\\\\\"Case_Fit\\\\\":187.4956526},{\\\\\"Date\\\\\":\\\\\"3\\\\\\\\/18\\\\\\\\/20\\\\\",\\\\\"Cases\\\\\":216.0,\\\\\"Hospitalizations\\\\\":26.0,\\\\\"Deaths\\\\\":2.0,\\\\\"Case_Fit\\\\\":240.8952919},{\\\\\"Date\\\\\":\\\\\"3\\\\\\\\/19\\\\\\\\/20\\\\\",\\\\\"Cases\\\\\":277.0,\\\\\"Hospitalizations\\\\\":38.0,\\\\\"Deaths\\\\\":2.0,\\\\\"Case_Fit\\\\\":309.5033983},{\\\\\"Date\\\\\":\\\\\"3\\\\\\\\/20\\\\\\\\/20\\\\\",\\\\\"Cases\\\\\":363.0,\\\\\"Hospitalizations\\\\\":44.0,\\\\\"Deaths\\\\\":4.0,\\\\\"Case_Fit\\\\\":397.6514144},{\\\\\"Date\\\\\":\\\\\"3\\\\\\\\/21\\\\\\\\/20\\\\\",\\\\\"Cases\\\\\":475.0,\\\\\"Hospitalizations\\\\\":49.0,\\\\\"Deaths\\\\\":5.0,\\\\\"Case_Fit\\\\\":510.904398},{\\\\\"Date\\\\\":\\\\\"3\\\\\\\\/22\\\\\\\\/20\\\\\",\\\\\"Cases\\\\\":591.0,\\\\\"Hospitalizations\\\\\":58.0,\\\\\"Deaths\\\\\":6.0,\\\\\"Case_Fit\\\\\":656.4123612},{\\\\\"Date\\\\\":\\\\\"3\\\\\\\\/23\\\\\\\\/20\\\\\",\\\\\"Cases\\\\\":720.0,\\\\\"Hospitalizations\\\\\":72.0,\\\\\"Deaths\\\\\":7.0,\\\\\"Case_Fit\\\\\":843.3616733},{\\\\\"Date\\\\\":\\\\\"3\\\\\\\\/24\\\\\\\\/20\\\\\",\\\\\"Cases\\\\\":912.0,\\\\\"Hospitalizations\\\\\":84.0,\\\\\"Deaths\\\\\":11.0,\\\\\"Case_Fit\\\\\":1083.555024},{\\\\\"Date\\\\\":\\\\\"3\\\\\\\\/25\\\\\\\\/20\\\\\",\\\\\"Cases\\\\\":null,\\\\\"Hospitalizations\\\\\":null,\\\\\"Deaths\\\\\":null,\\\\\"Case_Fit\\\\\":1392.156566},{\\\\\"Date\\\\\":\\\\\"3\\\\\\\\/26\\\\\\\\/20\\\\\",\\\\\"Cases\\\\\":null,\\\\\"Hospitalizations\\\\\":null,\\\\\"Deaths\\\\\":null,\\\\\"Case_Fit\\\\\":1788.64927},{\\\\\"Date\\\\\":\\\\\"3\\\\\\\\/27\\\\\\\\/20\\\\\",\\\\\"Cases\\\\\":null,\\\\\"Hospitalizations\\\\\":null,\\\\\"Deaths\\\\\":null,\\\\\"Case_Fit\\\\\":2298.064952},{\\\\\"Date\\\\\":\\\\\"3\\\\\\\\/28\\\\\\\\/20\\\\\",\\\\\"Cases\\\\\":null,\\\\\"Hospitalizations\\\\\":null,\\\\\"Deaths\\\\\":null,\\\\\"Case_Fit\\\\\":2952.564604},{\\\\\"Date\\\\\":\\\\\"3\\\\\\\\/29\\\\\\\\/20\\\\\",\\\\\"Cases\\\\\":null,\\\\\"Hospitalizations\\\\\":null,\\\\\"Deaths\\\\\":null,\\\\\"Case_Fit\\\\\":3793.468819},{\\\\\"Date\\\\\":\\\\\"3\\\\\\\\/30\\\\\\\\/20\\\\\",\\\\\"Cases\\\\\":null,\\\\\"Hospitalizations\\\\\":null,\\\\\"Deaths\\\\\":null,\\\\\"Case_Fit\\\\\":4873.86649},{\\\\\"Date\\\\\":\\\\\"3\\\\\\\\/31\\\\\\\\/20\\\\\",\\\\\"Cases\\\\\":null,\\\\\"Hospitalizations\\\\\":null,\\\\\"Deaths\\\\\":null,\\\\\"Case_Fit\\\\\":6261.966473},{\\\\\"Date\\\\\":\\\\\"4\\\\\\\\/1\\\\\\\\/20\\\\\",\\\\\"Cases\\\\\":null,\\\\\"Hospitalizations\\\\\":null,\\\\\"Deaths\\\\\":null,\\\\\"Case_Fit\\\\\":8045.403827},{\\\\\"Date\\\\\":\\\\\"4\\\\\\\\/2\\\\\\\\/20\\\\\",\\\\\"Cases\\\\\":null,\\\\\"Hospitalizations\\\\\":null,\\\\\"Deaths\\\\\":null,\\\\\"Case_Fit\\\\\":10336.77248},{\\\\\"Date\\\\\":\\\\\"4\\\\\\\\/3\\\\\\\\/20\\\\\",\\\\\"Cases\\\\\":null,\\\\\"Hospitalizations\\\\\":null,\\\\\"Deaths\\\\\":null,\\\\\"Case_Fit\\\\\":13280.73366},{\\\\\"Date\\\\\":\\\\\"4\\\\\\\\/4\\\\\\\\/20\\\\\",\\\\\"Cases\\\\\":null,\\\\\"Hospitalizations\\\\\":null,\\\\\"Deaths\\\\\":null,\\\\\"Case_Fit\\\\\":17063.14875},{\\\\\"Date\\\\\":\\\\\"4\\\\\\\\/5\\\\\\\\/20\\\\\",\\\\\"Cases\\\\\":null,\\\\\"Hospitalizations\\\\\":null,\\\\\"Deaths\\\\\":null,\\\\\"Case_Fit\\\\\":21922.81336},{\\\\\"Date\\\\\":\\\\\"4\\\\\\\\/6\\\\\\\\/20\\\\\",\\\\\"Cases\\\\\":null,\\\\\"Hospitalizations\\\\\":null,\\\\\"Deaths\\\\\":null,\\\\\"Case_Fit\\\\\":28166.53319},{\\\\\"Date\\\\\":\\\\\"4\\\\\\\\/7\\\\\\\\/20\\\\\",\\\\\"Cases\\\\\":null,\\\\\"Hospitalizations\\\\\":null,\\\\\"Deaths\\\\\":null,\\\\\"Case_Fit\\\\\":36188.49364},{\\\\\"Date\\\\\":\\\\\"4\\\\\\\\/8\\\\\\\\/20\\\\\",\\\\\"Cases\\\\\":null,\\\\\"Hospitalizations\\\\\":null,\\\\\"Deaths\\\\\":null,\\\\\"Case_Fit\\\\\":46495.14597},{\\\\\"Date\\\\\":\\\\\"4\\\\\\\\/9\\\\\\\\/20\\\\\",\\\\\"Cases\\\\\":null,\\\\\"Hospitalizations\\\\\":null,\\\\\"Deaths\\\\\":null,\\\\\"Case_Fit\\\\\":59737.18111},{\\\\\"Date\\\\\":\\\\\"4\\\\\\\\/10\\\\\\\\/20\\\\\",\\\\\"Cases\\\\\":null,\\\\\"Hospitalizations\\\\\":null,\\\\\"Deaths\\\\\":null,\\\\\"Case_Fit\\\\\":76750.60983},{\\\\\"Date\\\\\":\\\\\"4\\\\\\\\/11\\\\\\\\/20\\\\\",\\\\\"Cases\\\\\":null,\\\\\"Hospitalizations\\\\\":null,\\\\\"Deaths\\\\\":null,\\\\\"Case_Fit\\\\\":98609.54265},{\\\\\"Date\\\\\":\\\\\"4\\\\\\\\/12\\\\\\\\/20\\\\\",\\\\\"Cases\\\\\":null,\\\\\"Hospitalizations\\\\\":null,\\\\\"Deaths\\\\\":null,\\\\\"Case_Fit\\\\\":126694.0018},{\\\\\"Date\\\\\":\\\\\"4\\\\\\\\/13\\\\\\\\/20\\\\\",\\\\\"Cases\\\\\":null,\\\\\"Hospitalizations\\\\\":null,\\\\\"Deaths\\\\\":null,\\\\\"Case_Fit\\\\\":162777.0464},{\\\\\"Date\\\\\":\\\\\"4\\\\\\\\/14\\\\\\\\/20\\\\\",\\\\\"Cases\\\\\":null,\\\\\"Hospitalizations\\\\\":null,\\\\\"Deaths\\\\\":null,\\\\\"Case_Fit\\\\\":209136.7109},{\\\\\"Date\\\\\":\\\\\"4\\\\\\\\/15\\\\\\\\/20\\\\\",\\\\\"Cases\\\\\":null,\\\\\"Hospitalizations\\\\\":null,\\\\\"Deaths\\\\\":null,\\\\\"Case_Fit\\\\\":268699.8248},{\\\\\"Date\\\\\":\\\\\"4\\\\\\\\/16\\\\\\\\/20\\\\\",\\\\\"Cases\\\\\":null,\\\\\"Hospitalizations\\\\\":null,\\\\\"Deaths\\\\\":null,\\\\\"Case_Fit\\\\\":345226.7923},{\\\\\"Date\\\\\":\\\\\"4\\\\\\\\/17\\\\\\\\/20\\\\\",\\\\\"Cases\\\\\":null,\\\\\"Hospitalizations\\\\\":null,\\\\\"Deaths\\\\\":null,\\\\\"Case_Fit\\\\\":443548.9982},{\\\\\"Date\\\\\":\\\\\"4\\\\\\\\/18\\\\\\\\/20\\\\\",\\\\\"Cases\\\\\":null,\\\\\"Hospitalizations\\\\\":null,\\\\\"Deaths\\\\\":null,\\\\\"Case_Fit\\\\\":569873.8284},{\\\\\"Date\\\\\":\\\\\"4\\\\\\\\/19\\\\\\\\/20\\\\\",\\\\\"Cases\\\\\":null,\\\\\"Hospitalizations\\\\\":null,\\\\\"Deaths\\\\\":null,\\\\\"Case_Fit\\\\\":732176.5614},{\\\\\"Date\\\\\":\\\\\"4\\\\\\\\/20\\\\\\\\/20\\\\\",\\\\\"Cases\\\\\":null,\\\\\"Hospitalizations\\\\\":null,\\\\\"Deaths\\\\\":null,\\\\\"Case_Fit\\\\\":940703.8723},{\\\\\"Date\\\\\":\\\\\"4\\\\\\\\/21\\\\\\\\/20\\\\\",\\\\\"Cases\\\\\":null,\\\\\"Hospitalizations\\\\\":null,\\\\\"Deaths\\\\\":null,\\\\\"Case_Fit\\\\\":1208620.737},{\\\\\"Date\\\\\":\\\\\"4\\\\\\\\/22\\\\\\\\/20\\\\\",\\\\\"Cases\\\\\":null,\\\\\"Hospitalizations\\\\\":null,\\\\\"Deaths\\\\\":null,\\\\\"Case_Fit\\\\\":1552841.5790000001},{\\\\\"Date\\\\\":\\\\\"4\\\\\\\\/23\\\\\\\\/20\\\\\",\\\\\"Cases\\\\\":null,\\\\\"Hospitalizations\\\\\":null,\\\\\"Deaths\\\\\":null,\\\\\"Case_Fit\\\\\":1995098.1259999999},{\\\\\"Date\\\\\":\\\\\"4\\\\\\\\/24\\\\\\\\/20\\\\\",\\\\\"Cases\\\\\":null,\\\\\"Hospitalizations\\\\\":null,\\\\\"Deaths\\\\\":null,\\\\\"Case_Fit\\\\\":2563311.409},{\\\\\"Date\\\\\":\\\\\"4\\\\\\\\/25\\\\\\\\/20\\\\\",\\\\\"Cases\\\\\":null,\\\\\"Hospitalizations\\\\\":null,\\\\\"Deaths\\\\\":null,\\\\\"Case_Fit\\\\\":3293354.4930000002},{\\\\\"Date\\\\\":\\\\\"4\\\\\\\\/26\\\\\\\\/20\\\\\",\\\\\"Cases\\\\\":null,\\\\\"Hospitalizations\\\\\":null,\\\\\"Deaths\\\\\":null,\\\\\"Case_Fit\\\\\":4231317.2630000003},{\\\\\"Date\\\\\":\\\\\"4\\\\\\\\/27\\\\\\\\/20\\\\\",\\\\\"Cases\\\\\":null,\\\\\"Hospitalizations\\\\\":null,\\\\\"Deaths\\\\\":null,\\\\\"Case_Fit\\\\\":5436416.2199999997}]\"'"
      ]
     },
     "execution_count": 18,
     "metadata": {},
     "output_type": "execute_result"
    }
   ],
   "source": [
    "json_data"
   ]
  },
  {
   "cell_type": "code",
   "execution_count": null,
   "metadata": {},
   "outputs": [],
   "source": []
  }
 ],
 "metadata": {
  "kernelspec": {
   "display_name": "Python 3",
   "language": "python",
   "name": "python3"
  },
  "language_info": {
   "codemirror_mode": {
    "name": "ipython",
    "version": 3
   },
   "file_extension": ".py",
   "mimetype": "text/x-python",
   "name": "python",
   "nbconvert_exporter": "python",
   "pygments_lexer": "ipython3",
   "version": "3.7.1"
  }
 },
 "nbformat": 4,
 "nbformat_minor": 2
}
